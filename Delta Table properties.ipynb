{
 "cells": [
  {
   "cell_type": "code",
   "execution_count": 0,
   "metadata": {
    "application/vnd.databricks.v1+cell": {
     "cellMetadata": {
      "byteLimit": 2048000,
      "rowLimit": 10000
     },
     "inputWidgets": {},
     "nuid": "1e7b9b9d-30aa-4bab-ac2b-822ea1fcfe02",
     "showTitle": false,
     "tableResultSettingsMap": {},
     "title": ""
    }
   },
   "outputs": [],
   "source": [
    "'''\n",
    "What is delta table properties?\n",
    " It is used to set table level properties on delta table.\n",
    "\n",
    "What are those?\n",
    " 1.appendOnly --> This property is used to set the table as append only table. This is used to prevent update and inserts.\n",
    " 2.enableChangeDataFeed --> This property is used to track the row level changes.\n",
    " 3.delta.minReaderVersion --> This property is used to set the minimum reader version for the table.\n",
    " 4.delta.minWriterVersion --> This property is used to set the minimum writer version for the table.\n",
    " 5.optimizeWrite --> This property used to optimize the write while writing\n",
    "\n",
    "How to set property using SQL?\n",
    "    1. While creating table\n",
    "    2. Using ALTER TABLE SET TBLPROPERTIES\n",
    "How to set using Pyspark?\n",
    "    1. using spark.conf.set(\"spark.databricks.delta.properties.defaults.<property>\", \"<value>\")\n",
    "    2. using df.write.option(\"delta.<property>\", \"<value>\").saveAsTable(\"table-name\")\n",
    "'''"
   ]
  },
  {
   "cell_type": "code",
   "execution_count": 0,
   "metadata": {
    "application/vnd.databricks.v1+cell": {
     "cellMetadata": {
      "byteLimit": 2048000,
      "implicitDf": true,
      "rowLimit": 10000
     },
     "inputWidgets": {},
     "nuid": "3fdfa383-6b81-41f3-bbf1-695f354e12c9",
     "showTitle": true,
     "tableResultSettingsMap": {},
     "title": "create a table without properties"
    }
   },
   "outputs": [],
   "source": [
    "%sql\n",
    "drop table if exists customers;\n",
    "\n",
    "CREATE TABLE customers (\n",
    "  id INT,\n",
    "  name STRING,\n",
    "  city STRING\n",
    ") using DELTA\n",
    "TBLPROPERTIES (\n",
    "  \"delta.enableChangeDataFeed\"=True\n",
    ");\n",
    "\n",
    "INSERT INTO customers VALUES\n",
    "(1, 'Alice', 'New York'),\n",
    "(2, 'Bob', 'Chicago'),\n",
    "(3, 'Charlie', 'Seattle');\n",
    "\n"
   ]
  },
  {
   "cell_type": "code",
   "execution_count": 0,
   "metadata": {
    "application/vnd.databricks.v1+cell": {
     "cellMetadata": {
      "byteLimit": 2048000,
      "implicitDf": true,
      "rowLimit": 10000
     },
     "inputWidgets": {},
     "nuid": "29a05545-1682-442c-b7bf-aac9d04a9e87",
     "showTitle": false,
     "tableResultSettingsMap": {},
     "title": ""
    }
   },
   "outputs": [],
   "source": [
    "%sql\n",
    "select * from customers;"
   ]
  },
  {
   "cell_type": "code",
   "execution_count": 0,
   "metadata": {
    "application/vnd.databricks.v1+cell": {
     "cellMetadata": {
      "byteLimit": 2048000,
      "implicitDf": true,
      "rowLimit": 10000
     },
     "inputWidgets": {},
     "nuid": "5267514d-9657-49ce-92c9-e9625bcc36ae",
     "showTitle": true,
     "tableResultSettingsMap": {},
     "title": "updating a table to see the CDC"
    }
   },
   "outputs": [],
   "source": [
    "%sql\n",
    "update customers set city='China'\n",
    "where name='Charlie'"
   ]
  },
  {
   "cell_type": "code",
   "execution_count": 0,
   "metadata": {
    "application/vnd.databricks.v1+cell": {
     "cellMetadata": {
      "byteLimit": 2048000,
      "implicitDf": true,
      "rowLimit": 10000
     },
     "inputWidgets": {},
     "nuid": "7695e252-4981-462e-b4d2-d462409f3f1e",
     "showTitle": false,
     "tableResultSettingsMap": {},
     "title": ""
    }
   },
   "outputs": [],
   "source": [
    "%sql\n",
    "\n",
    "desc history customers;"
   ]
  },
  {
   "cell_type": "code",
   "execution_count": 0,
   "metadata": {
    "application/vnd.databricks.v1+cell": {
     "cellMetadata": {
      "byteLimit": 2048000,
      "implicitDf": true,
      "rowLimit": 10000
     },
     "inputWidgets": {},
     "nuid": "4eb0f160-4116-40b3-8573-ce7e1111e169",
     "showTitle": true,
     "tableResultSettingsMap": {},
     "title": "read CDC using SQL"
    }
   },
   "outputs": [],
   "source": [
    "%sql\n",
    "select * from table_changes('customers',0)"
   ]
  },
  {
   "cell_type": "code",
   "execution_count": 0,
   "metadata": {
    "application/vnd.databricks.v1+cell": {
     "cellMetadata": {
      "byteLimit": 2048000,
      "rowLimit": 10000
     },
     "inputWidgets": {},
     "nuid": "522c300a-7550-45fa-a139-d29357c88ef5",
     "showTitle": false,
     "tableResultSettingsMap": {},
     "title": ""
    }
   },
   "outputs": [],
   "source": [
    "spark.read.option('readChangeFeed',True)\\\n",
    "    .option(\"startingVersion\",0)\\\n",
    "    .table('customers')\\\n",
    "    .display()"
   ]
  },
  {
   "cell_type": "code",
   "execution_count": 0,
   "metadata": {
    "application/vnd.databricks.v1+cell": {
     "cellMetadata": {
      "byteLimit": 2048000,
      "implicitDf": true,
      "rowLimit": 10000
     },
     "inputWidgets": {},
     "nuid": "4a7365fb-b906-4836-8a25-8fa124542189",
     "showTitle": true,
     "tableResultSettingsMap": {},
     "title": "Let's make customer table as append only"
    }
   },
   "outputs": [],
   "source": [
    "%sql\n",
    "\n",
    "alter table customers set tblproperties (\"delta.appendOnly\"='true')"
   ]
  },
  {
   "cell_type": "code",
   "execution_count": 0,
   "metadata": {
    "application/vnd.databricks.v1+cell": {
     "cellMetadata": {
      "byteLimit": 2048000,
      "rowLimit": 10000
     },
     "inputWidgets": {},
     "nuid": "be65d798-f7a4-4a6c-9813-3f25ecb3cb82",
     "showTitle": true,
     "tableResultSettingsMap": {},
     "title": "Let's try to update"
    }
   },
   "outputs": [],
   "source": [
    "try:\n",
    "    spark.sql(\"update customers set name='John' where id=1\")\n",
    "except Exception as e:\n",
    "    print(\"Hey Man, You can't update mee....\")\n",
    "    print(str(e).split('\\n')[0])  # Just the first line\n"
   ]
  }
 ],
 "metadata": {
  "application/vnd.databricks.v1+notebook": {
   "computePreferences": null,
   "dashboards": [],
   "environmentMetadata": {
    "base_environment": "",
    "environment_version": "2"
   },
   "inputWidgetPreferences": null,
   "language": "python",
   "notebookMetadata": {
    "mostRecentlyExecutedCommandWithImplicitDF": {
     "commandId": 5573655512551912,
     "dataframes": [
      "_sqldf"
     ]
    },
    "pythonIndentUnit": 4
   },
   "notebookName": "Delta Table properties",
   "widgets": {}
  },
  "language_info": {
   "name": "python"
  }
 },
 "nbformat": 4,
 "nbformat_minor": 0
}
